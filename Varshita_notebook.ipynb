{
 "cells": [
  {
   "cell_type": "code",
   "execution_count": null,
   "id": "ced4d30f",
   "metadata": {},
   "outputs": [],
   "source": [
    "# Cloudcover  \n",
    "\n",
    "def documentation_cloud_cover(dataframe):\n",
    "    import requests\n",
    "    import pandas as pd\n",
    "    import numpy as np\n",
    "    import time\n",
    "\n",
    "    url = \"http://www.7timer.info/doc.php?lang=en#web_interface\"\n",
    "\n",
    "    weather = requests.get(url)\n",
    "\n",
    "    \n",
    "    from bs4 import BeautifulSoup\n",
    "\n",
    "    weather_out = BeautifulSoup(weather.text)\n",
    "\n",
    "    tables = weather_out.find_all(\"table\")\n",
    "    \n",
    "    row= []\n",
    "    cloud = []\n",
    "\n",
    "    for i,entry in enumerate(tables[5].find_all(\"td\")):\n",
    "        if i >= 4 and i <= 21:\n",
    "            row.append(entry.text)\n",
    "            if (i+1)%2 == 0:\n",
    "                cloud.append(row)\n",
    "                row = []\n",
    "\n",
    "    df = pd.DataFrame(cloud, columns = ['cloudcover', 'Cloudcover_Meaning'])\n",
    "    df.replace(to_replace = '\\r\\n\\t', regex=True, value='', inplace=True)\n",
    "    df[\"cloudcover\"]=df[\"cloudcover\"].astype(int)\n",
    "    temp = pd.merge(dataframe,df,on=\"cloudcover\",how=\"left\")\n",
    "    #temp = temp.drop(\"cloudcover\",axis =1)\n",
    "    \n",
    "    return temp"
   ]
  }
 ],
 "metadata": {
  "kernelspec": {
   "display_name": "Python 3 (ipykernel)",
   "language": "python",
   "name": "python3"
  },
  "language_info": {
   "codemirror_mode": {
    "name": "ipython",
    "version": 3
   },
   "file_extension": ".py",
   "mimetype": "text/x-python",
   "name": "python",
   "nbconvert_exporter": "python",
   "pygments_lexer": "ipython3",
   "version": "3.9.12"
  }
 },
 "nbformat": 4,
 "nbformat_minor": 5
}
