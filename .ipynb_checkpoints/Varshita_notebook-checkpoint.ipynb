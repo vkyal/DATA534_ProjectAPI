{
 "cells": [
  {
   "cell_type": "code",
   "execution_count": null,
   "id": "ced4d30f",
   "metadata": {},
   "outputs": [],
   "source": [
    "# Cloudcover  \n",
    "\n",
    "def documentation_cloud_cover(dataframe):\n",
    "\n",
    "    #api_url = \"http://www.7timer.info/doc.php?lang=en#web_interface\"\n",
    "\n",
    "    weather = requests.get(api_url)\n",
    "\n",
    "    weather_out = BeautifulSoup(weather.text, features=\"lxml\")\n",
    "\n",
    "    tables = weather_out.find_all(\"table\")\n",
    "    \n",
    "    row= []\n",
    "    cloud = []\n",
    "\n",
    "    for i,entry in enumerate(tables[5].find_all(\"td\")):\n",
    "        try:\n",
    "            if i >= 4 and i <= 21:\n",
    "                row.append(entry.text)\n",
    "                if (i+1)%2 == 0:\n",
    "                    cloud.append(row)\n",
    "                    row = []\n",
    "        except:\n",
    "            print(\"Server Error\")\n",
    "\n",
    "    df = pd.DataFrame(cloud, columns = ['cloudcover', 'Cloudcover_Meaning'])\n",
    "    df.replace(to_replace = '\\r\\n\\t', regex=True, value='', inplace=True)\n",
    "    df[\"cloudcover\"]=df[\"cloudcover\"].astype(int)\n",
    "    temp = pd.merge(dataframe,df,on=\"cloudcover\",how=\"left\")\n",
    "    \n",
    "    return temp"
   ]
  },
  {
   "cell_type": "code",
   "execution_count": null,
   "id": "fa35b991",
   "metadata": {},
   "outputs": [],
   "source": [
    "# Wind Speed\n",
    "\n",
    "def documentation_wind_spd_10m(dataframe):\n",
    "\n",
    "    #url = \"http://www.7timer.info/doc.php?lang=en#web_interface\"\n",
    "\n",
    "    weather = requests.get(api_url)\n",
    "\n",
    "    weather_out = BeautifulSoup(weather.text, features=\"lxml\")\n",
    "\n",
    "    tables = weather_out.find_all(\"table\")\n",
    "    \n",
    "    wind_spd_10m = []\n",
    "    row = []\n",
    "\n",
    "    for i,entry in enumerate(tables[5].find_all(\"td\")):\n",
    "        try:\n",
    "            if i >= 48 and i <= 63:\n",
    "                row.append(entry.text)\n",
    "                if (i+1)%2 == 0:\n",
    "                    wind_spd_10m.append(row)\n",
    "                    row = []\n",
    "        except:\n",
    "            print(\"Server Error\")\n",
    "\n",
    "    df2 = pd.DataFrame(wind_spd_10m, columns = ['speed', 'Speed_Meaning'])\n",
    "    df2.replace(to_replace = '\\r\\n\\t', regex=True, value='', inplace=True)\n",
    "    \n",
    "    df2[\"speed\"]=df2[\"speed\"].astype(int)\n",
    "    temp = pd.merge(dataframe,df2,on=\"speed\",how=\"left\")\n",
    "\n",
    "    \n",
    "    return temp"
   ]
  }
 ],
 "metadata": {
  "kernelspec": {
   "display_name": "Python 3 (ipykernel)",
   "language": "python",
   "name": "python3"
  },
  "language_info": {
   "codemirror_mode": {
    "name": "ipython",
    "version": 3
   },
   "file_extension": ".py",
   "mimetype": "text/x-python",
   "name": "python",
   "nbconvert_exporter": "python",
   "pygments_lexer": "ipython3",
   "version": "3.9.12"
  }
 },
 "nbformat": 4,
 "nbformat_minor": 5
}
