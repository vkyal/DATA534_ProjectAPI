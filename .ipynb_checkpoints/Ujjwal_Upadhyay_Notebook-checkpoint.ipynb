{
 "cells": [
  {
   "cell_type": "markdown",
   "id": "eaa6c756",
   "metadata": {},
   "source": [
    "## Daily activity notebook"
   ]
  },
  {
   "cell_type": "markdown",
   "id": "a333ccbc",
   "metadata": {},
   "source": [
    "26-Jan-2023"
   ]
  },
  {
   "cell_type": "code",
   "execution_count": null,
   "id": "52e28024",
   "metadata": {},
   "outputs": [],
   "source": [
    "We discussed on the feedback of the project proposal."
   ]
  }
 ],
 "metadata": {
  "kernelspec": {
   "display_name": "Python 3 (ipykernel)",
   "language": "python",
   "name": "python3"
  },
  "language_info": {
   "codemirror_mode": {
    "name": "ipython",
    "version": 3
   },
   "file_extension": ".py",
   "mimetype": "text/x-python",
   "name": "python",
   "nbconvert_exporter": "python",
   "pygments_lexer": "ipython3",
   "version": "3.9.12"
  }
 },
 "nbformat": 4,
 "nbformat_minor": 5
}
