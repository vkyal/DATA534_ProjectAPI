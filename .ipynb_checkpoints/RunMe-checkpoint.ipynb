{
 "cells": [
  {
   "cell_type": "code",
   "execution_count": 2,
   "id": "2d916081-7303-44cd-8bf8-5b175b34be52",
   "metadata": {},
   "outputs": [
    {
     "name": "stdout",
     "output_type": "stream",
     "text": [
      "Good morning!\n"
     ]
    },
    {
     "name": "stdin",
     "output_type": "stream",
     "text": [
      "Please enter the name of the city to get weather forcast: Dhaka\n",
      "Enter forcast type [Enter - 1 for Civil, 2 for Meteo, 3 for Astro] 1\n"
     ]
    },
    {
     "ename": "TypeError",
     "evalue": "'module' object is not callable",
     "output_type": "error",
     "traceback": [
      "\u001b[0;31m---------------------------------------------------------------------------\u001b[0m",
      "\u001b[0;31mTypeError\u001b[0m                                 Traceback (most recent call last)",
      "Cell \u001b[0;32mIn [2], line 3\u001b[0m\n\u001b[1;32m      1\u001b[0m \u001b[38;5;66;03m### This is the application call to get the coordinates ###\u001b[39;00m\n\u001b[1;32m      2\u001b[0m \u001b[38;5;28;01mfrom\u001b[39;00m \u001b[38;5;21;01mCity2Coord\u001b[39;00m \u001b[38;5;28;01mimport\u001b[39;00m Main, getLongLat\n\u001b[0;32m----> 3\u001b[0m \u001b[43mMain\u001b[49m\u001b[38;5;241;43m.\u001b[39;49m\u001b[43mgetCity\u001b[49m\u001b[43m(\u001b[49m\u001b[43m)\u001b[49m\n",
      "File \u001b[0;32m~/Documents/GitHub/DATA534_ProjectAPI/City2Coord/Main.py:33\u001b[0m, in \u001b[0;36mgetCity\u001b[0;34m()\u001b[0m\n\u001b[1;32m     30\u001b[0m \u001b[38;5;28;01mexcept\u001b[39;00m \u001b[38;5;167;01mException\u001b[39;00m \u001b[38;5;28;01mas\u001b[39;00m ex:\n\u001b[1;32m     31\u001b[0m     \u001b[38;5;28mprint\u001b[39m(\u001b[38;5;124m\"\u001b[39m\u001b[38;5;124mAn exception occurred : \u001b[39m\u001b[38;5;124m\"\u001b[39m,ex)\n\u001b[0;32m---> 33\u001b[0m cityName \u001b[38;5;241m=\u001b[39m \u001b[43mgetLongLat\u001b[49m\u001b[43m(\u001b[49m\u001b[43mcity\u001b[49m\u001b[43m,\u001b[49m\u001b[43mforcastType\u001b[49m\u001b[43m)\u001b[49m\n\u001b[1;32m     34\u001b[0m \u001b[38;5;28;01mreturn\u001b[39;00m cityName\n",
      "\u001b[0;31mTypeError\u001b[0m: 'module' object is not callable"
     ]
    }
   ],
   "source": [
    "### This is the application call to get the coordinates ###\n",
    "from City2Coord import Main, getLongLat\n",
    "Main.getCity()\n",
    "## END"
   ]
  },
  {
   "cell_type": "code",
   "execution_count": null,
   "id": "b76434e2-bb14-4f8f-b365-14bc5ae2a652",
   "metadata": {},
   "outputs": [],
   "source": []
  }
 ],
 "metadata": {
  "kernelspec": {
   "display_name": "Python 3 (ipykernel)",
   "language": "python",
   "name": "python3"
  },
  "language_info": {
   "codemirror_mode": {
    "name": "ipython",
    "version": 3
   },
   "file_extension": ".py",
   "mimetype": "text/x-python",
   "name": "python",
   "nbconvert_exporter": "python",
   "pygments_lexer": "ipython3",
   "version": "3.9.13"
  }
 },
 "nbformat": 4,
 "nbformat_minor": 5
}
