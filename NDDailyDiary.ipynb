{
 "cells": [
  {
   "cell_type": "markdown",
   "id": "8484b837-929f-4d6f-96d9-7ddc77af7fb9",
   "metadata": {},
   "source": [
    "Date: 26Jan2023\n",
    "1. Today we have explored the APIs of 7Timer\n",
    "2. We have disucssed about the functionalities that we will create and distributed the work among the work team members.\n"
   ]
  },
  {
   "cell_type": "markdown",
   "id": "ce39339c-db07-4de2-8933-8548bb9c4629",
   "metadata": {},
   "source": [
    "Date: 27Jan2023\n",
    "1. We have prepared the workflow of the project and distributed workload among ourselves.\n",
    "2. I am assigned to prepare the functionality for city name to lat and longitude conversion"
   ]
  },
  {
   "cell_type": "code",
   "execution_count": null,
   "id": "b17d32cd-d766-4a36-a16a-71bf0f7b28c4",
   "metadata": {},
   "outputs": [],
   "source": []
  }
 ],
 "metadata": {
  "kernelspec": {
   "display_name": "Python 3 (ipykernel)",
   "language": "python",
   "name": "python3"
  },
  "language_info": {
   "codemirror_mode": {
    "name": "ipython",
    "version": 3
   },
   "file_extension": ".py",
   "mimetype": "text/x-python",
   "name": "python",
   "nbconvert_exporter": "python",
   "pygments_lexer": "ipython3",
   "version": "3.9.13"
  }
 },
 "nbformat": 4,
 "nbformat_minor": 5
}
