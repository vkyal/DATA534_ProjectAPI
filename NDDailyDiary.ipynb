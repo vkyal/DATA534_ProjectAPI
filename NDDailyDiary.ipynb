{
 "cells": [
  {
   "cell_type": "markdown",
   "id": "8484b837-929f-4d6f-96d9-7ddc77af7fb9",
   "metadata": {},
   "source": [
    "Day 26Jan2023:\n",
    "1. Today we have explored the APIs of 7Timer\n",
    "2. We have disucssed about the functionalities that we will create and distributed the work among the work team members.\n"
   ]
  }
 ],
 "metadata": {
  "kernelspec": {
   "display_name": "Python 3 (ipykernel)",
   "language": "python",
   "name": "python3"
  },
  "language_info": {
   "codemirror_mode": {
    "name": "ipython",
    "version": 3
   },
   "file_extension": ".py",
   "mimetype": "text/x-python",
   "name": "python",
   "nbconvert_exporter": "python",
   "pygments_lexer": "ipython3",
   "version": "3.9.13"
  }
 },
 "nbformat": 4,
 "nbformat_minor": 5
}
