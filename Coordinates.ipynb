{
 "cells": [
  {
   "cell_type": "code",
   "execution_count": null,
   "id": "5ab5cb0e",
   "metadata": {},
   "outputs": [],
   "source": [
    "# Latitude,Longitude\n",
    "\n",
    "def coordinates(city):\n",
    "    \n",
    "    import pandas as pd\n",
    "    import requests\n",
    "    from bs4 import BeautifulSoup\n",
    "\n",
    "    url = \"https://en.wikipedia.org/wiki/\"\n",
    "\n",
    "    city = requests.get(url+city)\n",
    "\n",
    "    city = BeautifulSoup(city.text)\n",
    "\n",
    "    for item in city.find_all(\"span\", {\"class\":\"geo\"}):\n",
    "        temp = item.text\n",
    "        break\n",
    "\n",
    "    flag = temp.split(\";\")\n",
    "    return flag[0],flag[1]"
   ]
  }
 ],
 "metadata": {
  "kernelspec": {
   "display_name": "Python 3 (ipykernel)",
   "language": "python",
   "name": "python3"
  },
  "language_info": {
   "codemirror_mode": {
    "name": "ipython",
    "version": 3
   },
   "file_extension": ".py",
   "mimetype": "text/x-python",
   "name": "python",
   "nbconvert_exporter": "python",
   "pygments_lexer": "ipython3",
   "version": "3.9.12"
  }
 },
 "nbformat": 4,
 "nbformat_minor": 5
}
