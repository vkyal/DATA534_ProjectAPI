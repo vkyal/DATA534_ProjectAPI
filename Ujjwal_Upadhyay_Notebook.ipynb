{
 "cells": [
  {
   "cell_type": "markdown",
   "id": "eaa6c756",
   "metadata": {},
   "source": [
    "## Daily activity notebook"
   ]
  },
  {
   "cell_type": "markdown",
   "id": "a333ccbc",
   "metadata": {},
   "source": [
    "**26-Jan-2023**"
   ]
  },
  {
   "cell_type": "markdown",
   "id": "88758f8d",
   "metadata": {},
   "source": [
    "We discussed on the feedback of the project proposal and submitted the response to the faculty."
   ]
  },
  {
   "cell_type": "markdown",
   "id": "dd7bb1fb",
   "metadata": {},
   "source": [
    "**27-Jan-2023**"
   ]
  },
  {
   "cell_type": "markdown",
   "id": "0d7f3ca3",
   "metadata": {},
   "source": [
    "We prepared the workflow of the project and distributed workload among ourselves."
   ]
  },
  {
   "cell_type": "markdown",
   "id": "973e19b3",
   "metadata": {},
   "source": [
    "**28-Jan-2023**"
   ]
  },
  {
   "cell_type": "markdown",
   "id": "da09b861",
   "metadata": {},
   "source": [
    "Studied the functionality of the source API and discussed various methods to implement the package."
   ]
  },
  {
   "cell_type": "markdown",
   "id": "c6fc4cf1",
   "metadata": {},
   "source": [
    "**29-Jan-2023 and 30-Jan-2023**"
   ]
  },
  {
   "cell_type": "markdown",
   "id": "3d23b1b5",
   "metadata": {},
   "source": [
    "I was working on Lab2 (AWS) submission for DATA534."
   ]
  },
  {
   "cell_type": "markdown",
   "id": "f3ab3901",
   "metadata": {},
   "source": [
    "**31-Jan-2023**"
   ]
  },
  {
   "cell_type": "markdown",
   "id": "d7943681",
   "metadata": {},
   "source": [
    "I worked on `coordinates` function which extracts latitude and longitude based on user input city name."
   ]
  },
  {
   "attachments": {},
   "cell_type": "markdown",
   "id": "b29b43f4",
   "metadata": {},
   "source": [
    "**01-Feb-2023**"
   ]
  },
  {
   "attachments": {},
   "cell_type": "markdown",
   "id": "3e602bf1",
   "metadata": {},
   "source": [
    "- I worked on `documentation_ppt_amt` function which gives the meaningful interpratation to the precipitation forecast.\n",
    "- Also, I added try and exception for `coordinates` function for exception handling."
   ]
  }
 ],
 "metadata": {
  "kernelspec": {
   "display_name": "Python 3 (ipykernel)",
   "language": "python",
   "name": "python3"
  },
  "language_info": {
   "codemirror_mode": {
    "name": "ipython",
    "version": 3
   },
   "file_extension": ".py",
   "mimetype": "text/x-python",
   "name": "python",
   "nbconvert_exporter": "python",
   "pygments_lexer": "ipython3",
   "version": "3.9.12"
  }
 },
 "nbformat": 4,
 "nbformat_minor": 5
}
