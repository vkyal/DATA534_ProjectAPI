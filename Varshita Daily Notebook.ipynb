{
 "cells": [
  {
   "cell_type": "markdown",
   "id": "9eb127f3",
   "metadata": {},
   "source": [
    "# Daily Activity Notebook"
   ]
  },
  {
   "cell_type": "markdown",
   "id": "bf4979b2",
   "metadata": {},
   "source": [
    "## 26-Jan-23"
   ]
  },
  {
   "cell_type": "markdown",
   "id": "585efc5f",
   "metadata": {},
   "source": [
    "We discussed on the Feedback given on the project proposal."
   ]
  },
  {
   "cell_type": "markdown",
   "id": "36838111",
   "metadata": {},
   "source": [
    "## 27-Jan-23"
   ]
  },
  {
   "cell_type": "markdown",
   "id": "308699d8",
   "metadata": {},
   "source": [
    "We discussed the workflow of the projecct and distributed the worload amongst us."
   ]
  },
  {
   "cell_type": "markdown",
   "id": "a7e61d53",
   "metadata": {},
   "source": [
    "## 28-Jan-23"
   ]
  },
  {
   "cell_type": "markdown",
   "id": "d9e9ff95",
   "metadata": {},
   "source": [
    "Studied the documentation of the source API. We also discussed various methods to implement the package"
   ]
  },
  {
   "cell_type": "markdown",
   "id": "2772924c",
   "metadata": {},
   "source": [
    "## 29-Jan-23 to 30-Jan-23"
   ]
  },
  {
   "cell_type": "markdown",
   "id": "271612b9",
   "metadata": {},
   "source": [
    "Worked on the Lab2 AWS submission."
   ]
  },
  {
   "cell_type": "markdown",
   "id": "45f3eda4",
   "metadata": {},
   "source": [
    "## 31-Jan-23\n"
   ]
  },
  {
   "cell_type": "markdown",
   "id": "8cdb947b",
   "metadata": {},
   "source": [
    "Scrapped the cloudcover data from the source API documentation"
   ]
  },
  {
   "cell_type": "markdown",
   "id": "01ce4bbd",
   "metadata": {},
   "source": [
    "## 1-Feb-23"
   ]
  },
  {
   "cell_type": "markdown",
   "id": "cddaaf14",
   "metadata": {},
   "source": [
    "Scrapped the wind-speed data from the source API documentation"
   ]
  },
  {
   "cell_type": "markdown",
   "id": "119ca69c",
   "metadata": {},
   "source": [
    "## 2-Feb-23"
   ]
  },
  {
   "cell_type": "markdown",
   "id": "ec737252",
   "metadata": {},
   "source": [
    "Scrapped the time_zone data from wikipedia based on the user input for city_name."
   ]
  }
 ],
 "metadata": {
  "kernelspec": {
   "display_name": "Python 3 (ipykernel)",
   "language": "python",
   "name": "python3"
  },
  "language_info": {
   "codemirror_mode": {
    "name": "ipython",
    "version": 3
   },
   "file_extension": ".py",
   "mimetype": "text/x-python",
   "name": "python",
   "nbconvert_exporter": "python",
   "pygments_lexer": "ipython3",
   "version": "3.9.12"
  }
 },
 "nbformat": 4,
 "nbformat_minor": 5
}
